{
 "cells": [
  {
   "cell_type": "code",
   "execution_count": 1,
   "metadata": {},
   "outputs": [],
   "source": [
    "from kafka import KafkaProducer\n",
    "from kafka import KafkaConsumer\n",
    "import json\n",
    "\n",
    "producer = KafkaProducer(\n",
    "    key_serializer=lambda k: k.encode('utf-8'),\n",
    "    value_serializer = lambda v : json.dumps(v).encode('utf-8'),\n",
    "    bootstrap_servers='subtle-cub-6269-us1-kafka.upstash.io:9092',\n",
    "    sasl_mechanism='SCRAM-SHA-256',\n",
    "    security_protocol='SASL_SSL',\n",
    "    sasl_plain_username='c3VidGxlLWN1Yi02MjY5JENd3sgr9DMIjNGJ8Fidtm00fQzTTVA5M-Lg5i_2FVg',\n",
    "    sasl_plain_password='YWZmZGY4ZTUtYTNiMy00MjQzLWE5ZDMtNzk2NGVjNzI3NDQw'\n",
    ")"
   ]
  },
  {
   "cell_type": "code",
   "execution_count": null,
   "metadata": {},
   "outputs": [],
   "source": [
    "# ! pip install kafka\n",
    "# producer.close()"
   ]
  },
  {
   "cell_type": "code",
   "execution_count": 6,
   "metadata": {},
   "outputs": [],
   "source": [
    "topic = 'events'\n",
    "key = 'unilink'\n",
    "\n",
    "value = {'event' : 'create', 'id' : '4///223dddasdfd21'}\n",
    "\n",
    "producer.send(topic = topic, key = key, value = value)\n",
    "producer.flush()"
   ]
  },
  {
   "cell_type": "code",
   "execution_count": 65,
   "metadata": {},
   "outputs": [
    {
     "data": {
      "text/plain": [
       "b'{\"key1\": \"v1\", \"k2\": \"v2\"}'"
      ]
     },
     "execution_count": 65,
     "metadata": {},
     "output_type": "execute_result"
    }
   ],
   "source": [
    "value = {'key1' : 'v1', 'k2' : 'v2'}\n",
    "\n",
    "seriz = lambda v : json.dumps(v).encode('utf-8')\n",
    "svalue = seriz(value)\n",
    "svalue"
   ]
  },
  {
   "cell_type": "code",
   "execution_count": 66,
   "metadata": {},
   "outputs": [
    {
     "data": {
      "text/plain": [
       "{'key1': 'v1', 'k2': 'v2'}"
      ]
     },
     "execution_count": 66,
     "metadata": {},
     "output_type": "execute_result"
    }
   ],
   "source": [
    "deseriz = lambda v : json.loads(v.decode('utf-8'))\n",
    "\n",
    "svalue = deseriz(svalue)\n",
    "svalue"
   ]
  },
  {
   "cell_type": "code",
   "execution_count": null,
   "metadata": {},
   "outputs": [],
   "source": []
  }
 ],
 "metadata": {
  "kernelspec": {
   "display_name": "menvi",
   "language": "python",
   "name": "python3"
  },
  "language_info": {
   "codemirror_mode": {
    "name": "ipython",
    "version": 3
   },
   "file_extension": ".py",
   "mimetype": "text/x-python",
   "name": "python",
   "nbconvert_exporter": "python",
   "pygments_lexer": "ipython3",
   "version": "3.11.4"
  }
 },
 "nbformat": 4,
 "nbformat_minor": 2
}
