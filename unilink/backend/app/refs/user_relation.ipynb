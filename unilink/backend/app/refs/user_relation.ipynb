{
 "cells": [
  {
   "cell_type": "code",
   "execution_count": 1,
   "metadata": {},
   "outputs": [],
   "source": [
    "import os\n",
    "path = \"D:\\projects\\zimpleton\\\\backend\\\\app\"\n",
    "os.chdir(path)"
   ]
  },
  {
   "cell_type": "code",
   "execution_count": 2,
   "metadata": {},
   "outputs": [
    {
     "name": "stdout",
     "output_type": "stream",
     "text": [
      "INFO : CONNECTING TO CASSANDRA\n",
      "INFO : SUCCESS CONNECTION TO CASSANDRA\n",
      "INFO : REDIS CONNECTION NOT SETUP\n"
     ]
    }
   ],
   "source": [
    "from cassandra.cqlengine.models import Model\n",
    "from cassandra.cqlengine import columns\n",
    "from cassandra.cqlengine import connection\n",
    "from cassandra.cqlengine.management import sync_table\n",
    "\n",
    "\n",
    "from lib.connections import *\n",
    "from lib.models import *\n",
    "from lib.schemas import *\n",
    "from lib.helpers import *\n",
    "from lib.utils import *"
   ]
  },
  {
   "cell_type": "code",
   "execution_count": 14,
   "metadata": {},
   "outputs": [
    {
     "data": {
      "text/plain": [
       "['xkeyspace',\n",
       " 'unispace',\n",
       " 'system_auth',\n",
       " 'system_schema',\n",
       " 'system',\n",
       " 'datastax_sla',\n",
       " 'pinspace',\n",
       " 'system_traces',\n",
       " 'data_endpoint_auth']"
      ]
     },
     "execution_count": 14,
     "metadata": {},
     "output_type": "execute_result"
    }
   ],
   "source": [
    "query = \"SELECT keyspace_name FROM system_schema.keyspaces;\"\n",
    "ckeyspaces = connection.execute(query)\n",
    "ckeyspaces = [keyspace[\"keyspace_name\"] for keyspace in ckeyspaces]\n",
    "ckeyspaces"
   ]
  },
  {
   "cell_type": "code",
   "execution_count": 26,
   "metadata": {},
   "outputs": [
    {
     "data": {
      "text/plain": [
       "<cassandra.cluster.ResultSet at 0x1eeb8b0ee50>"
      ]
     },
     "execution_count": 26,
     "metadata": {},
     "output_type": "execute_result"
    }
   ],
   "source": [
    "connection.execute(\"truncate table user_relation\")\n",
    "# connection.execute(\"drop table user_relation\")"
   ]
  },
  {
   "cell_type": "code",
   "execution_count": 27,
   "metadata": {},
   "outputs": [],
   "source": [
    "class UserRelation(Model):\n",
    "    follower_email = columns.Text(primary_key = True)\n",
    "    followee_email = columns.Text(primary_key=True)\n",
    "    \n",
    "    follower_name = columns.Text()\n",
    "    followee_name = columns.Text()\n",
    "\n",
    "sync_table(UserRelation)"
   ]
  },
  {
   "cell_type": "code",
   "execution_count": 15,
   "metadata": {},
   "outputs": [
    {
     "data": {
      "text/plain": [
       "[UserRelation(follower_email='michael@gmail.com', followee_email='jack@gmail.com', follower_name='michael', followee_name='jack'),\n",
       " UserRelation(follower_email='michael@gmail.com', followee_email='jordan@gmail.com', follower_name='michael', followee_name='jordan'),\n",
       " UserRelation(follower_email='michael@gmail.com', followee_email='mickey@gmail.com', follower_name='michael', followee_name='mickey'),\n",
       " UserRelation(follower_email='mickey@gmail.com', followee_email='alex@gmail.com', follower_name='mickey', followee_name='alex'),\n",
       " UserRelation(follower_email='mickey@gmail.com', followee_email='jordan@gmail.com', follower_name='mickey', followee_name='jordan'),\n",
       " UserRelation(follower_email='mickey@gmail.com', followee_email='michael@gmail.com', follower_name='mickey', followee_name='michael'),\n",
       " UserRelation(follower_email='jack@gmail.com', followee_email='jordan@gmail.com', follower_name='jack', followee_name='jordan'),\n",
       " UserRelation(follower_email='jack@gmail.com', followee_email='michael@gmail.com', follower_name='jack', followee_name='michael'),\n",
       " UserRelation(follower_email='jack@gmail.com', followee_email='mickey@gmail.com', follower_name='jack', followee_name='mickey'),\n",
       " UserRelation(follower_email='steve@gmail.com', followee_email='alex@gmail.com', follower_name='steve', followee_name='alex'),\n",
       " UserRelation(follower_email='steve@gmail.com', followee_email='michael@gmail.com', follower_name='steve', followee_name='michael'),\n",
       " UserRelation(follower_email='steve@gmail.com', followee_email='mickey@gmail.com', follower_name='steve', followee_name='mickey'),\n",
       " UserRelation(follower_email='jordan@gmail.com', followee_email='jack@gmail.com', follower_name='jordan', followee_name='jack'),\n",
       " UserRelation(follower_email='jordan@gmail.com', followee_email='michael@gmail.com', follower_name='jordan', followee_name='michael'),\n",
       " UserRelation(follower_email='jordan@gmail.com', followee_email='mickey@gmail.com', follower_name='jordan', followee_name='mickey'),\n",
       " UserRelation(follower_email='alex@gmail.com', followee_email='DM@gmail.com', follower_name='alex', followee_name='Dark Magician')]"
      ]
     },
     "execution_count": 15,
     "metadata": {},
     "output_type": "execute_result"
    }
   ],
   "source": [
    "relations = UserRelation.objects.all()\n"
   ]
  },
  {
   "cell_type": "code",
   "execution_count": 6,
   "metadata": {},
   "outputs": [],
   "source": [
    "names = ['jack', 'mickey', 'michael', 'jordan']\n",
    "mock_data = [\n",
    "    {\"follower_email\": f\"{name}@gmail.com\", \"followee_email\": f\"{name2}@gmail.com\", \"follower_name\": name, \"followee_name\": name2} # added follower_name here\n",
    "    for name in names for name2 in names if name != name2\n",
    "]"
   ]
  },
  {
   "cell_type": "code",
   "execution_count": 7,
   "metadata": {},
   "outputs": [],
   "source": [
    "from cassandra.cqlengine.query import BatchQuery\n",
    "\n",
    "# values = UserRelation.objects.all()\n",
    "# list(values)\n",
    "# user_relation = UserRelation(follower_email = \"jake@gmail.com\", follower_name = \"jake\" , followee_email = \"emily@gmail.com\", followee_name = \"emily\")\n",
    "\n",
    "for value in mock_data:\n",
    "    UserRelation.create(**value)\n",
    "\n"
   ]
  },
  {
   "cell_type": "code",
   "execution_count": 8,
   "metadata": {},
   "outputs": [
    {
     "data": {
      "text/plain": [
       "[UserRelation(follower_email='michael@gmail.com', followee_email='jack@gmail.com', follower_name='michael', followee_name='jack'),\n",
       " UserRelation(follower_email='michael@gmail.com', followee_email='jordan@gmail.com', follower_name='michael', followee_name='jordan'),\n",
       " UserRelation(follower_email='michael@gmail.com', followee_email='mickey@gmail.com', follower_name='michael', followee_name='mickey'),\n",
       " UserRelation(follower_email='mickey@gmail.com', followee_email='alex@gmail.com', follower_name='mickey', followee_name='alex'),\n",
       " UserRelation(follower_email='mickey@gmail.com', followee_email='jack@gmail.com', follower_name='mickey', followee_name='jack'),\n",
       " UserRelation(follower_email='mickey@gmail.com', followee_email='jordan@gmail.com', follower_name='mickey', followee_name='jordan'),\n",
       " UserRelation(follower_email='mickey@gmail.com', followee_email='michael@gmail.com', follower_name='mickey', followee_name='michael'),\n",
       " UserRelation(follower_email='jack@gmail.com', followee_email='jordan@gmail.com', follower_name='jack', followee_name='jordan'),\n",
       " UserRelation(follower_email='jack@gmail.com', followee_email='michael@gmail.com', follower_name='jack', followee_name='michael'),\n",
       " UserRelation(follower_email='jack@gmail.com', followee_email='mickey@gmail.com', follower_name='jack', followee_name='mickey'),\n",
       " UserRelation(follower_email='steve@gmail.com', followee_email='alex@gmail.com', follower_name='steve', followee_name='alex'),\n",
       " UserRelation(follower_email='steve@gmail.com', followee_email='michael@gmail.com', follower_name='steve', followee_name='michael'),\n",
       " UserRelation(follower_email='steve@gmail.com', followee_email='mickey@gmail.com', follower_name='steve', followee_name='mickey'),\n",
       " UserRelation(follower_email='jordan@gmail.com', followee_email='jack@gmail.com', follower_name='jordan', followee_name='jack'),\n",
       " UserRelation(follower_email='jordan@gmail.com', followee_email='michael@gmail.com', follower_name='jordan', followee_name='michael'),\n",
       " UserRelation(follower_email='jordan@gmail.com', followee_email='mickey@gmail.com', follower_name='jordan', followee_name='mickey'),\n",
       " UserRelation(follower_email='alex@gmail.com', followee_email='DM@gmail.com', follower_name='alex', followee_name='Dark Magician')]"
      ]
     },
     "execution_count": 8,
     "metadata": {},
     "output_type": "execute_result"
    }
   ],
   "source": [
    "values = UserRelation.objects.all();\n",
    "list(values)"
   ]
  },
  {
   "cell_type": "code",
   "execution_count": 9,
   "metadata": {},
   "outputs": [],
   "source": [
    "def get_followers(followee_email):\n",
    "    followers = UserRelation.objects.allow_filtering().filter(followee_email=followee_email)\n",
    "\n",
    "    if not followers:\n",
    "        return []\n",
    "\n",
    "    followers = [{'name': relation.follower_name, 'email': relation.follower_email} for relation in followers]\n",
    "    return followers\n",
    "\n",
    "def get_following(follower_email):\n",
    "    following = UserRelation.objects.allow_filtering().filter(follower_email=follower_email)\n",
    "\n",
    "    if not following:\n",
    "        return []\n",
    "\n",
    "    following = [{'name': relation.followee_name, 'email': relation.followee_email} for relation in following]\n",
    "    return following\n",
    "\n",
    "\n",
    "def follow(follower_email, follower_name, followee_email, followee_name ):\n",
    "    try:\n",
    "        UserRelation.create(\n",
    "            followee_email=followee_email,\n",
    "            follower_email=follower_email,\n",
    "            followee_name=followee_name,\n",
    "            follower_name=follower_name\n",
    "        )\n",
    "    except Exception as e:\n",
    "        print(\"INFO : UserRelation Creation Error\")\n",
    "        print(e)\n",
    "        #raise exception here\n",
    "\n",
    "def unfollow(followee_email, follower_email):\n",
    "    try:\n",
    "        relation = UserRelation.get(followee_email=followee_email, follower_email=follower_email)\n",
    "        relation.delete()\n",
    "    except:\n",
    "        pass"
   ]
  },
  {
   "cell_type": "code",
   "execution_count": 45,
   "metadata": {},
   "outputs": [
    {
     "data": {
      "text/plain": [
       "'ip@gmail.com'"
      ]
     },
     "execution_count": 45,
     "metadata": {},
     "output_type": "execute_result"
    }
   ],
   "source": [
    "user_email = \"doesnotexit@gmail.com\"\n",
    "user_email = 'ip@gmail.com'\n",
    "\n",
    "user_name = UserInfo.get(email = user_email).name\n",
    "user_name"
   ]
  },
  {
   "cell_type": "code",
   "execution_count": 57,
   "metadata": {},
   "outputs": [
    {
     "data": {
      "text/plain": [
       "[{'name': 'steve@gmail.com', 'email': 'steve'},\n",
       " {'name': 'micheal@gmail.com', 'email': 'micheal'},\n",
       " {'name': 'mickey@gmail.com', 'email': 'mickey'},\n",
       " {'name': 'jimmy@gmail.com', 'email': 'jimmy'},\n",
       " {'name': 'alex@gmail.com', 'email': 'alex'},\n",
       " {'name': 'john@gmail.com', 'email': 'john'}]"
      ]
     },
     "execution_count": 57,
     "metadata": {},
     "output_type": "execute_result"
    }
   ],
   "source": [
    "email = 'pi@gmail.com'\n",
    "get_followers(followee_email= email)"
   ]
  },
  {
   "cell_type": "code",
   "execution_count": 56,
   "metadata": {},
   "outputs": [
    {
     "data": {
      "text/plain": [
       "[{'name': 'alex', 'email': 'alex@gmail.com'},\n",
       " {'name': 'jimmy', 'email': 'jimmy@gmail.com'},\n",
       " {'name': 'john', 'email': 'john@gmail.com'},\n",
       " {'name': 'micheal', 'email': 'micheal@gmail.com'},\n",
       " {'name': 'mickey', 'email': 'mickey@gmail.com'},\n",
       " {'name': 'steve', 'email': 'steve@gmail.com'}]"
      ]
     },
     "execution_count": 56,
     "metadata": {},
     "output_type": "execute_result"
    }
   ],
   "source": [
    "get_following(follower_email='ip@gmail.com')"
   ]
  },
  {
   "cell_type": "code",
   "execution_count": 33,
   "metadata": {},
   "outputs": [],
   "source": [
    "follower_email = follower_name = 'ip@gmail.com'\n",
    "\n",
    "followee_names = [\"mickey\", \"micheal\", \"jimmy\", \"john\", \"alex\", \"steve\"]\n",
    "\n",
    "get_followee_email = lambda name: f\"{name}@gmail.com\"\n",
    "followee_emails = [get_followee_email(name) for name in followee_names]\n",
    "\n",
    "# followee_email\n",
    "# follower_email\n",
    "# followee_name\n",
    "# follower_name\n",
    "\n",
    "\n",
    "for followee_email, followee_name in zip(followee_emails, followee_names):\n",
    "    \n",
    "    follow(\n",
    "        followee_email = followee_email,\n",
    "        follower_email = follower_email,\n",
    "        followee_name = followee_name,\n",
    "        follower_name = follower_name,\n",
    "    )"
   ]
  },
  {
   "cell_type": "code",
   "execution_count": 54,
   "metadata": {},
   "outputs": [],
   "source": [
    "followee_email = followee_name = 'pi@gmail.com'\n",
    "\n",
    "follower_names = [\"mickey\", \"micheal\", \"jimmy\", \"john\", \"alex\", \"steve\"]\n",
    "\n",
    "get_follower_email = lambda name: f\"{name}@gmail.com\"\n",
    "follower_emails = [get_follower_email(name) for name in followee_names]\n",
    "\n",
    "# followee_email\n",
    "# follower_email\n",
    "# followee_name\n",
    "# follower_name\n",
    "\n",
    "for follower_email, follower_name in zip(follower_names, follower_emails):\n",
    "    \n",
    "    follow(\n",
    "        followee_email = followee_email,\n",
    "        follower_email = follower_email,\n",
    "        followee_name = followee_name,\n",
    "        follower_name = follower_name,\n",
    "    )"
   ]
  },
  {
   "cell_type": "code",
   "execution_count": 12,
   "metadata": {},
   "outputs": [],
   "source": [
    "unfollow(follower_email = 'ip@gmail.com', followee_email='jack@gmail.com')"
   ]
  },
  {
   "cell_type": "code",
   "execution_count": 13,
   "metadata": {},
   "outputs": [
    {
     "data": {
      "text/plain": [
       "[{'name': 'alex', 'email': 'alex@gmail.com'},\n",
       " {'name': 'jordan', 'email': 'jordan@gmail.com'},\n",
       " {'name': 'michael', 'email': 'michael@gmail.com'}]"
      ]
     },
     "execution_count": 13,
     "metadata": {},
     "output_type": "execute_result"
    }
   ],
   "source": [
    "followee_email = 'doesnotexist@gmail.com'\n",
    "followee_email = 'ip@gmail.com'\n",
    "followers = UserRelation.objects.allow_filtering().filter(followee_email=followee_email)\n",
    "\n",
    "print(list(followers))"
   ]
  },
  {
   "cell_type": "code",
   "execution_count": 61,
   "metadata": {},
   "outputs": [
    {
     "data": {
      "text/plain": [
       "[UserInfo(email='pi@gmail.com', name='pi@gmail.com'),\n",
       " UserInfo(email='ip@gmail.com', name='ip@gmail.com')]"
      ]
     },
     "execution_count": 61,
     "metadata": {},
     "output_type": "execute_result"
    }
   ],
   "source": [
    "values = UserCredentials.objects.all()\n",
    "values = UserInfo.objects.all()\n",
    "list(values)"
   ]
  }
 ],
 "metadata": {
  "kernelspec": {
   "display_name": "menvi",
   "language": "python",
   "name": "python3"
  },
  "language_info": {
   "codemirror_mode": {
    "name": "ipython",
    "version": 3
   },
   "file_extension": ".py",
   "mimetype": "text/x-python",
   "name": "python",
   "nbconvert_exporter": "python",
   "pygments_lexer": "ipython3",
   "version": "3.11.4"
  }
 },
 "nbformat": 4,
 "nbformat_minor": 2
}
