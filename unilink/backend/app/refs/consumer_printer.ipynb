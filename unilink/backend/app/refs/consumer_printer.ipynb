{
 "cells": [
  {
   "cell_type": "code",
   "execution_count": 1,
   "metadata": {},
   "outputs": [],
   "source": [
    "from kafka import KafkaProducer\n",
    "from kafka import KafkaConsumer\n",
    "import json\n",
    "\n",
    "consumer = KafkaConsumer(\n",
    "    'events',\n",
    "    value_deserializer=lambda m: json.loads(m.decode('utf-8')),\n",
    "    bootstrap_servers='subtle-cub-6269-us1-kafka.upstash.io:9092',\n",
    "    sasl_mechanism='SCRAM-SHA-256',\n",
    "    security_protocol='SASL_SSL',\n",
    "    sasl_plain_username='c3VidGxlLWN1Yi02MjY5JENd3sgr9DMIjNGJ8Fidtm00fQzTTVA5M-Lg5i_2FVg',\n",
    "    sasl_plain_password='YWZmZGY4ZTUtYTNiMy00MjQzLWE5ZDMtNzk2NGVjNzI3NDQw',\n",
    "    group_id='YOUR_CONSUMER_GROUP',\n",
    "    auto_offset_reset='earliest'\n",
    ")"
   ]
  },
  {
   "cell_type": "code",
   "execution_count": 4,
   "metadata": {},
   "outputs": [],
   "source": []
  },
  {
   "cell_type": "code",
   "execution_count": 6,
   "metadata": {},
   "outputs": [],
   "source": [
    "# for message in consumer:\n",
    "#     print(message)"
   ]
  }
 ],
 "metadata": {
  "kernelspec": {
   "display_name": "menvi",
   "language": "python",
   "name": "python3"
  },
  "language_info": {
   "codemirror_mode": {
    "name": "ipython",
    "version": 3
   },
   "file_extension": ".py",
   "mimetype": "text/x-python",
   "name": "python",
   "nbconvert_exporter": "python",
   "pygments_lexer": "ipython3",
   "version": "3.11.4"
  }
 },
 "nbformat": 4,
 "nbformat_minor": 2
}
