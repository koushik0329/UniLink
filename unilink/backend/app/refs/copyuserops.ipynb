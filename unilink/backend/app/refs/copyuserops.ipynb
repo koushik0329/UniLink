{
 "cells": [
  {
   "cell_type": "code",
   "execution_count": 1,
   "metadata": {},
   "outputs": [],
   "source": [
    "import os\n",
    "path = \"D:\\projects\\zimpleton\\\\backend\\\\app\"\n",
    "os.chdir(path)"
   ]
  },
  {
   "cell_type": "code",
   "execution_count": 2,
   "metadata": {},
   "outputs": [
    {
     "data": {
      "text/plain": [
       "'D:\\\\projects\\\\zimpleton\\\\backend\\\\app'"
      ]
     },
     "execution_count": 2,
     "metadata": {},
     "output_type": "execute_result"
    }
   ],
   "source": [
    "os.getcwd()"
   ]
  },
  {
   "cell_type": "code",
   "execution_count": 3,
   "metadata": {},
   "outputs": [
    {
     "name": "stdout",
     "output_type": "stream",
     "text": [
      "INFO : CONNECTING TO CASSANDRA\n",
      "INFO : SUCCESS CONNECTION TO CASSANDRA\n",
      "INFO : CONNECTING TO REDIS\n",
      "INFO : CONNECTION TO REDIS SUCCESS\n"
     ]
    }
   ],
   "source": [
    "from cassandra.cqlengine.models import Model\n",
    "from cassandra.cqlengine import columns\n",
    "from cassandra.cqlengine import connection\n",
    "from cassandra.cqlengine.management import sync_table\n",
    "from cassandra.cqlengine.query import BatchQuery\n",
    "\n",
    "from lib.models import *\n",
    "from lib.connections import set_datastax_connection,get_redis_connection\n",
    "from lib.helpers import *\n",
    "from lib.utils import *"
   ]
  },
  {
   "cell_type": "code",
   "execution_count": 7,
   "metadata": {},
   "outputs": [],
   "source": [
    "# set_datastax_connection()\n",
    "\n",
    "# connection.execute(\"truncate table user_relation\")\n",
    "# connection.execute(\"drop table user_relation\")\n",
    "\n",
    "# connection.execute(\"truncate table user_info\")\n",
    "# connection.execute(\"truncate table user_credentials\")"
   ]
  },
  {
   "cell_type": "code",
   "execution_count": 8,
   "metadata": {},
   "outputs": [
    {
     "data": {
      "text/plain": [
       "True"
      ]
     },
     "execution_count": 8,
     "metadata": {},
     "output_type": "execute_result"
    }
   ],
   "source": [
    "r = get_redis_connection()\n",
    "# r.flushdb()"
   ]
  },
  {
   "cell_type": "code",
   "execution_count": 4,
   "metadata": {},
   "outputs": [
    {
     "data": {
      "text/plain": [
       "['xkeyspace',\n",
       " 'unispace',\n",
       " 'system_auth',\n",
       " 'system_schema',\n",
       " 'system',\n",
       " 'datastax_sla',\n",
       " 'pinspace',\n",
       " 'system_traces',\n",
       " 'data_endpoint_auth']"
      ]
     },
     "execution_count": 4,
     "metadata": {},
     "output_type": "execute_result"
    }
   ],
   "source": [
    "query = \"SELECT keyspace_name FROM system_schema.keyspaces;\"\n",
    "ckeyspaces = connection.execute(query)\n",
    "ckeyspaces = [keyspace[\"keyspace_name\"] for keyspace in ckeyspaces]\n",
    "ckeyspaces"
   ]
  },
  {
   "cell_type": "code",
   "execution_count": 9,
   "metadata": {},
   "outputs": [
    {
     "data": {
      "text/plain": [
       "[UserCredentials(email='mickey@gmail.com', hashed_password='$2b$12$9rlLBOblfLVZO2katNqPL.nto2kDV3P7CrFZNfx3SzOdC.qCSePe6'),\n",
       " UserCredentials(email='jake@gmail.com', hashed_password='$2b$12$3uJoB1mzDIO2LV8h5i.Ouel129BrdsvbVItehc0GJujRWHu4ckhoe'),\n",
       " UserCredentials(email='BEWD@gmail.com', hashed_password='$2b$12$eGUokJwrEkeCcG/PFEKqSexN13NICQSJFyZ3wcLJ7yxsmvRFIhIpS'),\n",
       " UserCredentials(email='nickel@gmail.com', hashed_password='$2b$12$3qpdCAX5qyOEFUfI8skelOLtdeUUXjUUW/bCKdeja7C5kd0tAtiMG')]"
      ]
     },
     "execution_count": 9,
     "metadata": {},
     "output_type": "execute_result"
    }
   ],
   "source": [
    "credvalues = UserCredentials.objects.all()\n",
    "list(credvalues)"
   ]
  },
  {
   "cell_type": "code",
   "execution_count": 10,
   "metadata": {},
   "outputs": [
    {
     "data": {
      "text/plain": [
       "[UserInfo(email='mickey@gmail.com', name='mickey@gmail.com'),\n",
       " UserInfo(email='jake@gmail.com', name='jake'),\n",
       " UserInfo(email='BEWD@gmail.com', name='Blue Eyes White Dragon'),\n",
       " UserInfo(email='nickel@gmail.com', name='nickel')]"
      ]
     },
     "execution_count": 10,
     "metadata": {},
     "output_type": "execute_result"
    }
   ],
   "source": [
    "infovalues = UserInfo.objects.all()\n",
    "list(infovalues)"
   ]
  },
  {
   "cell_type": "code",
   "execution_count": null,
   "metadata": {},
   "outputs": [],
   "source": [
    "class UserCredentials(Model):\n",
    "    email = columns.Text(primary_key=True)\n",
    "    hashed_password = columns.Text()\n",
    "\n",
    "\n",
    "class UserInfo(Model):\n",
    "    email = columns.Text(primary_key=True)\n",
    "    name = columns.Text(index = True)\n",
    "\n",
    "sync_table(UserCredentials)\n",
    "sync_table(UserInfo)"
   ]
  },
  {
   "cell_type": "code",
   "execution_count": 30,
   "metadata": {},
   "outputs": [],
   "source": [
    "quser = \"mickey@gmail.com\"\n",
    "search_result = []\n",
    "\n"
   ]
  },
  {
   "cell_type": "code",
   "execution_count": 31,
   "metadata": {},
   "outputs": [
    {
     "data": {
      "text/plain": [
       "[{'email': 'mickey@gmail.com', 'name': 'mickey@gmail.com'}]"
      ]
     },
     "execution_count": 31,
     "metadata": {},
     "output_type": "execute_result"
    }
   ],
   "source": [
    "result"
   ]
  },
  {
   "cell_type": "code",
   "execution_count": 13,
   "metadata": {},
   "outputs": [
    {
     "data": {
      "text/plain": [
       "[[], []]"
      ]
     },
     "execution_count": 13,
     "metadata": {},
     "output_type": "execute_result"
    }
   ],
   "source": [
    "search_result"
   ]
  },
  {
   "cell_type": "code",
   "execution_count": null,
   "metadata": {},
   "outputs": [],
   "source": [
    "def isUserExistsByEmail(email):\n",
    "    result = UserCredentials.objects(email = email).limit(1)\n",
    "    return bool(list(result))\n",
    "\n",
    "def isUserExistsByName(name):\n",
    "    result = UserInfo.objects(name = name).limit(1)\n",
    "    return bool(list(result))\n",
    "\n",
    "def getUserByEmail(email):\n",
    "    result = UserInfo.objects(email = email)\n",
    "    return list(result)\n",
    "\n",
    "def getUsersByName(name):\n",
    "    result = UserInfo.objects(name = name)\n",
    "    return list(result)"
   ]
  },
  {
   "cell_type": "code",
   "execution_count": null,
   "metadata": {},
   "outputs": [],
   "source": [
    "# password = \"mickey@gmail.com\"\n",
    "# hashed_password = '$2b$12$Wnzp3UMaNFWNStq6lz7zuuY7F2VUN0Q4l0pHy0sr0FN0/gj0aoSRO'\n",
    "# hashed_password='$2b$12$i5EGN/N4wLhKH/cXrg7bRujl7Ab2vQtalh3yuOwuRwxLypov7nini'\n",
    "\n",
    "\n",
    "def hash_password(password):\n",
    "    hashed_password = pwd_context.hash(password)\n",
    "    return hashed_password\n",
    "\n",
    "def isPasswordsMatch(plain_password, hashed_password):\n",
    "    return pwd_context.verify(plain_password,hashed_password)\n",
    "\n",
    "# isPasswordsMatch(password,hashed_password)"
   ]
  },
  {
   "cell_type": "code",
   "execution_count": null,
   "metadata": {},
   "outputs": [],
   "source": [
    "def login(email, password):\n",
    "    pass\n",
    "\n",
    "email  = \"mickey@gmail.com\"\n",
    "password  = \"mickey@gmail.com\"\n",
    "\n",
    "# if not isUserExistsByEmail(email = email):\n",
    "#     print(\"user does not exist exception\")\n",
    "\n",
    "correct_password = UserCredentials.get(email = email).hashed_password\n",
    "\n",
    "isPasswordsMatch(password, correct_password)\n",
    "\n"
   ]
  },
  {
   "cell_type": "code",
   "execution_count": null,
   "metadata": {},
   "outputs": [],
   "source": [
    "# def register(email, name, password):\n",
    "    \n",
    "#     if isUserExistsByEmail(email = email):\n",
    "#         print(\"email already exists\")\n",
    "#         return \n",
    "\n",
    "#     #later call secret_value method here at endpoint\n",
    "#     hashed_password = hash_password(password)\n",
    "\n",
    "#     batch = BatchQuery()\n",
    "#     UserCredentials.batch(batch).create(email = email, hashed_password = hashed_password)\n",
    "#     UserInfo.batch(batch).create(email = email,name = name)\n",
    "#     batch.execute()\n",
    "\n",
    "#     access_token = getAccessToken(data = email)\n",
    "    \n",
    "#     response = {\n",
    "#         \"access_token\" : access_token\n",
    "#     }\n",
    "\n",
    "#     return response\n",
    "\n",
    "# register(email = email, name = name, password = password)"
   ]
  },
  {
   "cell_type": "code",
   "execution_count": null,
   "metadata": {},
   "outputs": [],
   "source": [
    "# email , password = \"00jack@gmail.com\", \"jack@gmail.com\"\n",
    "\n",
    "# x = UserCredentials.objects(email = email).limit(1).if_not_exists()\n",
    "# print(x)"
   ]
  },
  {
   "cell_type": "code",
   "execution_count": null,
   "metadata": {},
   "outputs": [],
   "source": []
  },
  {
   "cell_type": "code",
   "execution_count": null,
   "metadata": {},
   "outputs": [],
   "source": [
    "# email, password = formdata.username, formdata.password\n",
    "\n",
    "#     # check if user exists, if so get credentials\n",
    "#     user_credentials = None\n",
    "#     try:\n",
    "#         user_credentials = UserCredentials.get(email=email)\n",
    "#     except:\n",
    "#         raise credentials_exception\n",
    "\n",
    "#     # check if passwords match\n",
    "#     plain_password, hashed_password = password, user_credentials.hashed_password\n",
    "#     isPasswordsMatch = pwd_context.verify(plain_password, hashed_password)\n",
    "\n",
    "#     # raise exception if not\n",
    "#     if not isPasswordsMatch:\n",
    "#         raise credentials_exception\n",
    "\n",
    "#     # else generate access token\n",
    "#     access_token = getAccessToken(data=email)\n",
    "\n",
    "#     # add access token to redis cache with expiration\n",
    "#     try:\n",
    "#         r.set(access_token, email)\n",
    "#         r.expire(access_token, token_duration.seconds)\n",
    "#     except:\n",
    "#         pass\n",
    "\n",
    "#     response = {\"access_token\": access_token}\n",
    "#     response = JSONResponse(response)\n",
    "#     response.set_cookie(\n",
    "#         key=\"access_token\",\n",
    "#         value=access_token,\n",
    "#         expires=token_duration.seconds,\n",
    "#         httponly=True,\n",
    "#         secure=True,\n",
    "#         samesite=\"strict\",\n",
    "#     )\n",
    "\n",
    "#     return response"
   ]
  }
 ],
 "metadata": {
  "kernelspec": {
   "display_name": "menvi",
   "language": "python",
   "name": "python3"
  },
  "language_info": {
   "codemirror_mode": {
    "name": "ipython",
    "version": 3
   },
   "file_extension": ".py",
   "mimetype": "text/x-python",
   "name": "python",
   "nbconvert_exporter": "python",
   "pygments_lexer": "ipython3",
   "version": "3.11.4"
  }
 },
 "nbformat": 4,
 "nbformat_minor": 2
}
