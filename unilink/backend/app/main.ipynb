{
 "cells": [
  {
   "cell_type": "code",
   "execution_count": 2,
   "metadata": {},
   "outputs": [],
   "source": [
    "from cassandra.cqlengine.models import Model\n",
    "from cassandra.cqlengine import columns\n",
    "from cassandra.cqlengine import connection\n",
    "from cassandra.cqlengine.management import sync_table\n",
    "from cassandra.cqlengine.query import BatchQuery\n",
    "\n",
    "from lib.connections import *\n",
    "from lib.models import *\n",
    "\n",
    "from lib.helpers import *\n",
    "\n",
    "from passlib.context import CryptContext\n",
    "pwd_context = CryptContext(schemes=[\"bcrypt\"], deprecated=\"auto\")"
   ]
  },
  {
   "cell_type": "code",
   "execution_count": 4,
   "metadata": {},
   "outputs": [],
   "source": [
    "set_datastax_connection()\n",
    "\n",
    "# connection.execute(\"truncate table user_relation\")\n",
    "# connection.execute(\"drop table user_relation\")"
   ]
  },
  {
   "cell_type": "code",
   "execution_count": 5,
   "metadata": {},
   "outputs": [
    {
     "data": {
      "text/plain": [
       "['xkeyspace',\n",
       " 'unispace',\n",
       " 'system_auth',\n",
       " 'system_schema',\n",
       " 'system',\n",
       " 'datastax_sla',\n",
       " 'pinspace',\n",
       " 'system_traces',\n",
       " 'data_endpoint_auth']"
      ]
     },
     "execution_count": 5,
     "metadata": {},
     "output_type": "execute_result"
    }
   ],
   "source": [
    "query = \"SELECT keyspace_name FROM system_schema.keyspaces;\"\n",
    "ckeyspaces = connection.execute(query)\n",
    "ckeyspaces = [keyspace[\"keyspace_name\"] for keyspace in ckeyspaces]\n",
    "ckeyspaces"
   ]
  },
  {
   "cell_type": "code",
   "execution_count": null,
   "metadata": {},
   "outputs": [],
   "source": []
  }
 ],
 "metadata": {
  "kernelspec": {
   "display_name": "menvi",
   "language": "python",
   "name": "python3"
  },
  "language_info": {
   "codemirror_mode": {
    "name": "ipython",
    "version": 3
   },
   "file_extension": ".py",
   "mimetype": "text/x-python",
   "name": "python",
   "nbconvert_exporter": "python",
   "pygments_lexer": "ipython3",
   "version": "3.11.9"
  }
 },
 "nbformat": 4,
 "nbformat_minor": 2
}
