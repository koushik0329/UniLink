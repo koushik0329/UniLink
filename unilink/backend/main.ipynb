{
 "cells": [
  {
   "cell_type": "code",
   "execution_count": 1,
   "metadata": {},
   "outputs": [
    {
     "name": "stdout",
     "output_type": "stream",
     "text": [
      "INFO : CONNECTING TO CASSANDRA\n",
      "INFO : SUCCESS CONNECTION TO CASSANDRA\n"
     ]
    }
   ],
   "source": [
    "from cassandra.cqlengine.models import Model\n",
    "from cassandra.cqlengine import columns\n",
    "from cassandra.cqlengine import connection\n",
    "from cassandra.cqlengine.management import sync_table\n",
    "from cassandra.cqlengine.query import BatchQuery\n",
    "\n",
    "from app.lib.connections import *\n",
    "from app.lib.models import *\n",
    "from app.lib.helpers import *\n",
    "from app.lib.utils import *"
   ]
  },
  {
   "cell_type": "code",
   "execution_count": 2,
   "metadata": {},
   "outputs": [
    {
     "data": {
      "text/plain": [
       "['system_auth',\n",
       " 'system_schema',\n",
       " 'system_distributed',\n",
       " 'system',\n",
       " 'unilinkspace',\n",
       " 'system_traces']"
      ]
     },
     "execution_count": 2,
     "metadata": {},
     "output_type": "execute_result"
    }
   ],
   "source": [
    "query = \"SELECT keyspace_name FROM system_schema.keyspaces;\"\n",
    "ckeyspaces = connection.execute(query)\n",
    "ckeyspaces = [keyspace[\"keyspace_name\"] for keyspace in ckeyspaces]\n",
    "ckeyspaces"
   ]
  },
  {
   "cell_type": "code",
   "execution_count": 3,
   "metadata": {},
   "outputs": [
    {
     "name": "stderr",
     "output_type": "stream",
     "text": [
      "c:\\Users\\Jashu\\Desktop\\unilink\\backend\\menvi\\Lib\\site-packages\\cassandra\\cqlengine\\management.py:544: UserWarning: CQLENG_ALLOW_SCHEMA_MANAGEMENT environment variable is not set. Future versions of this package will require this variable to enable management functions.\n",
      "  warnings.warn(msg)\n"
     ]
    }
   ],
   "source": [
    "sync_table(UserCredentials)\n",
    "sync_table(UserInfo)\n",
    "sync_table(Posts)\n",
    "sync_table(InterestedPosts)\n",
    "sync_table(UserConnections)"
   ]
  },
  {
   "cell_type": "code",
   "execution_count": 3,
   "metadata": {},
   "outputs": [
    {
     "name": "stderr",
     "output_type": "stream",
     "text": [
      "c:\\Users\\Jashu\\Desktop\\unilink\\backend\\menvi\\Lib\\site-packages\\cassandra\\cqlengine\\management.py:544: UserWarning: CQLENG_ALLOW_SCHEMA_MANAGEMENT environment variable is not set. Future versions of this package will require this variable to enable management functions.\n",
      "  warnings.warn(msg)\n"
     ]
    }
   ],
   "source": [
    "class UserCredentials(Model):\n",
    "    email = columns.Text(primary_key=True)\n",
    "    hashed_password = columns.Text()\n",
    "\n",
    "class UserInfo(Model):\n",
    "    name = columns.Text(index=True)\n",
    "    email = columns.Text(primary_key=True)\n",
    "\n",
    "sync_table(UserCredentials)\n",
    "sync_table(UserInfo)"
   ]
  },
  {
   "cell_type": "code",
   "execution_count": 3,
   "metadata": {},
   "outputs": [
    {
     "data": {
      "text/plain": [
       "[UserCredentials(email='mickey@gmail.com', hashed_password='$2b$12$EC.SUo/MLv72M0jfXe4WE.V7Kt6NdWabwC8ASLdRKBLRh4.O8lc4.'),\n",
       " UserCredentials(email='jake@gmail.com', hashed_password='$2b$12$kpfwTaygxWy6CiDftB6Qi.USflIDHcYOiCil3R8dT02uPURc0xQ6S'),\n",
       " UserCredentials(email='steve@gmail.com', hashed_password='$2b$12$KCOeo02uBnPPUUUdlMqZRuDnosoVk2s6x7pxZ6UaNXUM8jrnLVPS2'),\n",
       " UserCredentials(email='ash@gmail.com', hashed_password='$2b$12$hrTWdKsALg2JRcvTpSTEJucDoSMz0WAHQZ3nRDEWqSmILaPxErglC'),\n",
       " UserCredentials(email='peter@gmail.com', hashed_password='$2b$12$2g/YeD.1N4GskZGkEz/kMev25LfWegRqkQt8f4bUtBMEZEW2U.ZyG'),\n",
       " UserCredentials(email='james@gmail.com', hashed_password='$2b$12$Q.G5.CqDIGa/9qzxZN3I7OcIo.9z9VEYvEvoXEdF/ydggRsNMy2hK'),\n",
       " UserCredentials(email='alex@gmail.com', hashed_password='$2b$12$PwvVSaYJWsm/nwYNeaNZxOm/i2V4Bcxz8NcrP6n/vlGzV6WlXfiAy')]"
      ]
     },
     "execution_count": 3,
     "metadata": {},
     "output_type": "execute_result"
    }
   ],
   "source": [
    "values = UserCredentials.objects.all()\n",
    "list(values)"
   ]
  },
  {
   "cell_type": "code",
   "execution_count": 4,
   "metadata": {},
   "outputs": [],
   "source": [
    "class UserConnections(Model):\n",
    "    from_email = columns.Text(primary_key=True)\n",
    "    to_email = columns.Text(primary_key=True)\n",
    "    from_name = columns.Text()\n",
    "    to_name = columns.Text()\n",
    "\n",
    "sync_table(UserConnections)"
   ]
  },
  {
   "cell_type": "code",
   "execution_count": 94,
   "metadata": {},
   "outputs": [
    {
     "data": {
      "text/plain": [
       "<cassandra.cluster.ResultSet at 0x15615f8a750>"
      ]
     },
     "execution_count": 94,
     "metadata": {},
     "output_type": "execute_result"
    }
   ],
   "source": [
    "connection.execute(\"truncate table user_connections\")"
   ]
  },
  {
   "cell_type": "code",
   "execution_count": 95,
   "metadata": {},
   "outputs": [],
   "source": [
    "from_name = 'steve'\n",
    "from_email = 'steve@gmail.com'\n",
    "\n",
    "to_names = \"mikey james ash peter\".split()\n",
    "for to_name in to_names : \n",
    "    to_email = f'{to_name}@gmail.com'\n",
    "    data = {\n",
    "        'from_email' : from_email,\n",
    "        'from_name' : from_name,\n",
    "        'to_email' : to_email,\n",
    "        'to_name' : to_name,\n",
    "    }\n",
    "    UserConnections.create(**data)"
   ]
  },
  {
   "cell_type": "code",
   "execution_count": 96,
   "metadata": {},
   "outputs": [],
   "source": [
    "from_names  = \"user1 user2 user3\".split()\n",
    "\n",
    "to_email = 'steve@gmail.com'\n",
    "to_name = 'steve'\n",
    "\n",
    "for from_name in from_names:\n",
    "    from_email = f'{from_name}@gmail.com'\n",
    "    data = {\n",
    "        'from_email' : from_email,\n",
    "        'from_name' : from_name,\n",
    "        'to_email' : to_email,\n",
    "        'to_name' : to_name,\n",
    "    }\n",
    "    UserConnections.create(**data)"
   ]
  },
  {
   "cell_type": "code",
   "execution_count": 97,
   "metadata": {},
   "outputs": [
    {
     "data": {
      "text/plain": [
       "[UserConnections(from_email='steve@gmail.com', to_email='ash@gmail.com', from_name='steve', to_name='ash'),\n",
       " UserConnections(from_email='steve@gmail.com', to_email='james@gmail.com', from_name='steve', to_name='james'),\n",
       " UserConnections(from_email='steve@gmail.com', to_email='mikey@gmail.com', from_name='steve', to_name='mikey'),\n",
       " UserConnections(from_email='steve@gmail.com', to_email='peter@gmail.com', from_name='steve', to_name='peter'),\n",
       " UserConnections(from_email='user2@gmail.com', to_email='steve@gmail.com', from_name='user2', to_name='steve'),\n",
       " UserConnections(from_email='user1@gmail.com', to_email='steve@gmail.com', from_name='user1', to_name='steve'),\n",
       " UserConnections(from_email='user3@gmail.com', to_email='steve@gmail.com', from_name='user3', to_name='steve')]"
      ]
     },
     "execution_count": 97,
     "metadata": {},
     "output_type": "execute_result"
    }
   ],
   "source": [
    "values = UserConnections.objects.all()\n",
    "list(values)"
   ]
  },
  {
   "cell_type": "code",
   "execution_count": 98,
   "metadata": {},
   "outputs": [
    {
     "data": {
      "text/plain": [
       "[{'email': 'ash@gmail.com', 'name': 'ash'},\n",
       " {'email': 'james@gmail.com', 'name': 'james'},\n",
       " {'email': 'mikey@gmail.com', 'name': 'mikey'},\n",
       " {'email': 'peter@gmail.com', 'name': 'peter'},\n",
       " {'email': 'user2@gmail.com', 'name': 'user2'},\n",
       " {'email': 'user1@gmail.com', 'name': 'user1'},\n",
       " {'email': 'user3@gmail.com', 'name': 'user3'}]"
      ]
     },
     "execution_count": 98,
     "metadata": {},
     "output_type": "execute_result"
    }
   ],
   "source": [
    "def get_connections(user_email):\n",
    "    user_connections = list()\n",
    "\n",
    "    from_connections = UserConnections.objects(from_email=user_email)\n",
    "    to_connections = UserConnections.objects(to_email = user_email).allow_filtering()\n",
    "\n",
    "    for iconnection in from_connections:\n",
    "        user_connection = {'email' : iconnection.to_email,'name' : iconnection.to_name}\n",
    "        user_connections.append(user_connection)\n",
    "    for iconnection in to_connections:\n",
    "        user_connection = {'email' : iconnection.from_email,'name' : iconnection.from_name}\n",
    "        user_connections.append(user_connection)\n",
    "    \n",
    "    return user_connections\n",
    "values = get_connections(user_email = 'steve@gmail.com')\n",
    "values"
   ]
  },
  {
   "cell_type": "code",
   "execution_count": 99,
   "metadata": {},
   "outputs": [],
   "source": [
    "auth_email = 'steve@gmail.com'\n",
    "user_email = 'ash@gmail.com'\n",
    "try:\n",
    "    connection_to_delete = UserConnections.objects.get(\n",
    "        from_email=user_email, to_email=auth_email\n",
    "    )\n",
    "    connection_to_delete.delete()\n",
    "    print(f\"Connection from {user_email} to {auth_email} deleted.\")\n",
    "except UserConnections.DoesNotExist:\n",
    "    print(f\"Connection from {user_email} to {auth_email} not found.\")\n",
    "except Exception as e:\n",
    "    error_message = \"INFO : /remove-connection : 1\"\n",
    "    print(error_message)\n",
    "\n",
    "try:\n",
    "    connection_to_delete = UserConnections.objects.get(\n",
    "        from_email=auth_email, to_email=user_email\n",
    "    )\n",
    "    connection_to_delete.delete()\n",
    "    print(f\"Connection from {auth_email} to {user_email} deleted.\")\n",
    "except UserConnections.DoesNotExist:\n",
    "    print(f\"Connection from {auth_email} to {user_email} not found.\")\n",
    "except Exception as e:\n",
    "    error_message = \"INFO : /remove-connection : 2\"\n",
    "    print(error_message)"
   ]
  },
  {
   "cell_type": "code",
   "execution_count": 5,
   "metadata": {},
   "outputs": [],
   "source": [
    "class Posts(Model):\n",
    "    email = columns.Text(primary_key=True, partition_key=True)\n",
    "    xtimestamp = columns.DateTime(\n",
    "        primary_key=True, clustering_order=\"DESC\", default=datetime.now\n",
    "    )\n",
    "\n",
    "    id = columns.UUID(primary_key=True, default=uuid.uuid4)\n",
    "    title = columns.Text()\n",
    "    description = columns.Text()\n",
    "    interested = columns.Integer(default = 0)\n",
    "\n",
    "sync_table(Posts)"
   ]
  },
  {
   "cell_type": "code",
   "execution_count": 4,
   "metadata": {},
   "outputs": [
    {
     "data": {
      "text/plain": [
       "[Posts(email='jake@gmail.com', xtimestamp=datetime.datetime(2024, 4, 27, 14, 39, 56, 290000), id=UUID('540b6dd8-e569-4b58-89ba-0098b1d9e433'), title='dd', description='df', interested=0),\n",
       " Posts(email='jake@gmail.com', xtimestamp=datetime.datetime(2024, 4, 27, 14, 39, 8, 390000), id=UUID('78e07cf5-49b8-4bca-b84b-8d44aa88d202'), title='title2', description='desc2', interested=4),\n",
       " Posts(email='jake@gmail.com', xtimestamp=datetime.datetime(2024, 4, 27, 14, 19, 6, 827000), id=UUID('441cfab1-6bf5-4857-ac83-7d0aad345de8'), title='title3edit', description='desc3', interested=0),\n",
       " Posts(email='steve@gmail.com', xtimestamp=datetime.datetime(2024, 4, 26, 19, 36, 51, 746000), id=UUID('4468536c-d8ed-4bbf-92c9-292230b36fad'), title='title2', description='desc2', interested=1),\n",
       " Posts(email='steve@gmail.com', xtimestamp=datetime.datetime(2024, 4, 26, 19, 34, 37, 157000), id=UUID('77bbbee1-f5bd-43b4-beea-ab95c42f3f7c'), title='title one', description='description one', interested=0),\n",
       " Posts(email='james@gmail.com', xtimestamp=datetime.datetime(2024, 4, 28, 5, 13, 35, 989000), id=UUID('89dd09d9-d7d3-43e2-9474-a740fed00175'), title='titlejames', description='titleejamdsedsc', interested=0),\n",
       " Posts(email='james@gmail.com', xtimestamp=datetime.datetime(2024, 4, 28, 5, 13, 16, 294000), id=UUID('870adb56-5547-4134-be28-918c02892234'), title='someTitle Edit Check Again', description='someDescAgainEdit', interested=0),\n",
       " Posts(email='alex@gmail.com', xtimestamp=datetime.datetime(2024, 4, 28, 13, 41, 12, 56000), id=UUID('f4db7ad3-67f9-41ee-9fea-c2ae7dbe8eda'), title='dasdfa', description='sdfasd', interested=0),\n",
       " Posts(email='alex@gmail.com', xtimestamp=datetime.datetime(2024, 4, 28, 13, 40, 8, 402000), id=UUID('66a0c09d-59ab-4f76-bff3-ed82e282204e'), title='titleOneEdit', description='CheckTitleOneEdit', interested=0)]"
      ]
     },
     "execution_count": 4,
     "metadata": {},
     "output_type": "execute_result"
    }
   ],
   "source": [
    "values = Posts.objects.all()\n",
    "list(values)"
   ]
  },
  {
   "cell_type": "code",
   "execution_count": null,
   "metadata": {},
   "outputs": [],
   "source": [
    "postid = '1fe1310c-7281-4675-a936-1e28bc066423'\n",
    "Posts.objects.allow_filtering().get(id = postid).delete()"
   ]
  },
  {
   "cell_type": "code",
   "execution_count": null,
   "metadata": {},
   "outputs": [],
   "source": [
    "class Likes(Model):\n",
    "    email = columns.Text(primary_key=True, partition_key=True)\n",
    "    xtimestamp = columns.DateTime(\n",
    "        primary_key=True, clustering_order=\"DESC\", default=datetime.now\n",
    "    )\n",
    "\n",
    "    email = columns.Text(primary_key=True, partition_key=True)\n",
    "    id = columns.UUID(primary_key=True, default=uuid.uuid4)\n",
    "    title = columns.Text()\n",
    "    description = columns.Text()\n",
    "    interested = columns.Integer(default = 0)"
   ]
  },
  {
   "cell_type": "code",
   "execution_count": 23,
   "metadata": {},
   "outputs": [
    {
     "ename": "AttributeError",
     "evalue": "'Posts' object has no attribute 'allow_filtering'",
     "output_type": "error",
     "traceback": [
      "\u001b[1;31m---------------------------------------------------------------------------\u001b[0m",
      "\u001b[1;31mAttributeError\u001b[0m                            Traceback (most recent call last)",
      "Cell \u001b[1;32mIn[23], line 23\u001b[0m\n\u001b[0;32m     14\u001b[0m     post\u001b[38;5;241m.\u001b[39msave()\n\u001b[0;32m     16\u001b[0m \u001b[38;5;66;03m# for _ in range(10) : create_random_post()\u001b[39;00m\n\u001b[0;32m     19\u001b[0m x \u001b[38;5;241m=\u001b[39m \u001b[43mPosts\u001b[49m\u001b[43m(\u001b[49m\n\u001b[0;32m     20\u001b[0m \u001b[43m        \u001b[49m\u001b[43memail\u001b[49m\u001b[38;5;241;43m=\u001b[39;49m\u001b[38;5;124;43m'\u001b[39;49m\u001b[38;5;124;43msteve@gmail.com\u001b[39;49m\u001b[38;5;124;43m'\u001b[39;49m\u001b[43m,\u001b[49m\n\u001b[0;32m     21\u001b[0m \u001b[43m        \u001b[49m\u001b[43mtitle\u001b[49m\u001b[38;5;241;43m=\u001b[39;49m\u001b[38;5;124;43m'\u001b[39;49m\u001b[38;5;124;43mRandom Post asdf\u001b[39;49m\u001b[38;5;124;43m'\u001b[39;49m\u001b[43m,\u001b[49m\n\u001b[0;32m     22\u001b[0m \u001b[43m        \u001b[49m\u001b[43mdescription\u001b[49m\u001b[38;5;241;43m=\u001b[39;49m\u001b[38;5;124;43m'\u001b[39;49m\u001b[38;5;124;43mThis is a random post with ID asdf\u001b[39;49m\u001b[38;5;124;43m'\u001b[39;49m\u001b[43m,\u001b[49m\n\u001b[1;32m---> 23\u001b[0m \u001b[43m    \u001b[49m\u001b[43m)\u001b[49m\u001b[38;5;241;43m.\u001b[39;49m\u001b[43mallow_filtering\u001b[49m()\n\u001b[0;32m     24\u001b[0m help(x)\n",
      "\u001b[1;31mAttributeError\u001b[0m: 'Posts' object has no attribute 'allow_filtering'"
     ]
    }
   ],
   "source": [
    "import random\n",
    "import uuid\n",
    "def create_random_post():\n",
    "    emails = ['mickey@example.com', 'steve@example.com', 'ash@example.com']\n",
    "\n",
    "    email = random.choice(emails)\n",
    "\n",
    "    post = Posts(\n",
    "        email=email,\n",
    "        title='Random Post ' + str(uuid.uuid4()),\n",
    "        description='This is a random post with ID ' + str(uuid.uuid4()),\n",
    "    )\n",
    "\n",
    "    post.save()\n",
    "\n",
    "# for _ in range(10) : create_random_post()\n"
   ]
  },
  {
   "cell_type": "code",
   "execution_count": 12,
   "metadata": {},
   "outputs": [
    {
     "data": {
      "text/plain": [
       "[Posts(email='jake@gmail.com', xtimestamp=datetime.datetime(2024, 4, 27, 14, 39, 56, 290000), id=UUID('540b6dd8-e569-4b58-89ba-0098b1d9e433'), title='dd', description='df', interested=0),\n",
       " Posts(email='jake@gmail.com', xtimestamp=datetime.datetime(2024, 4, 27, 14, 39, 8, 390000), id=UUID('78e07cf5-49b8-4bca-b84b-8d44aa88d202'), title='title2', description='desc2', interested=0),\n",
       " Posts(email='jake@gmail.com', xtimestamp=datetime.datetime(2024, 4, 27, 14, 19, 6, 827000), id=UUID('441cfab1-6bf5-4857-ac83-7d0aad345de8'), title='title3edit', description='desc3', interested=0),\n",
       " Posts(email='steve@gmail.com', xtimestamp=datetime.datetime(2024, 4, 26, 19, 36, 51, 746000), id=UUID('4468536c-d8ed-4bbf-92c9-292230b36fad'), title='title2', description='desc2', interested=0),\n",
       " Posts(email='steve@gmail.com', xtimestamp=datetime.datetime(2024, 4, 26, 19, 34, 37, 157000), id=UUID('77bbbee1-f5bd-43b4-beea-ab95c42f3f7c'), title='title one', description='description one', interested=0)]"
      ]
     },
     "execution_count": 12,
     "metadata": {},
     "output_type": "execute_result"
    }
   ],
   "source": [
    "values = Posts.objects.all()\n",
    "list(values)"
   ]
  },
  {
   "cell_type": "code",
   "execution_count": 10,
   "metadata": {},
   "outputs": [
    {
     "data": {
      "text/plain": [
       "Posts(email='jake@gmail.com', xtimestamp=datetime.datetime(2024, 4, 27, 7, 58, 57, 946000), id=UUID('26c5fbca-9f4e-4458-8217-4cc613830d25'), title='titleEdited', description='descEdited', interested=0)"
      ]
     },
     "execution_count": 10,
     "metadata": {},
     "output_type": "execute_result"
    }
   ],
   "source": [
    "title = 'titleEdited'\n",
    "description = 'descEdited'\n",
    "\n",
    "email = 'steve@gmail.com'\n",
    "postid = '26c5fbca-9f4e-4458-8217-4cc613830d25'\n",
    "post = Posts.objects.allow_filtering().get(id=postid)\n",
    "post.title = title\n",
    "post.description = description\n",
    "post.save()"
   ]
  },
  {
   "cell_type": "code",
   "execution_count": 11,
   "metadata": {},
   "outputs": [
    {
     "data": {
      "text/plain": [
       "[]"
      ]
     },
     "execution_count": 11,
     "metadata": {},
     "output_type": "execute_result"
    }
   ],
   "source": [
    "email = 'dd@gmail.com'\n",
    "\n",
    "auth_posts = Posts.objects(email=email).all()\n",
    "\n",
    "list(auth_posts)"
   ]
  },
  {
   "cell_type": "code",
   "execution_count": 55,
   "metadata": {},
   "outputs": [
    {
     "name": "stdout",
     "output_type": "stream",
     "text": [
      "{'email': 'user3@gmail.com', 'name': 'user3'}\n"
     ]
    }
   ],
   "source": [
    "def get_connections(user_email):\n",
    "    user_connections = list()\n",
    "\n",
    "    from_connections = UserConnections.objects(from_email=user_email)\n",
    "    to_connections = UserConnections.objects(to_email = user_email).allow_filtering()\n",
    "\n",
    "    for iconnection in from_connections:\n",
    "        user_connection = {'email' : iconnection.to_email,'name' : iconnection.to_name}\n",
    "        user_connections.append(user_connection)\n",
    "    for iconnection in to_connections:\n",
    "        user_connection = {'email' : iconnection.from_email,'name' : iconnection.from_name}\n",
    "        user_connections.append(user_connection)\n",
    "    \n",
    "    print(user_connection)\n",
    "\n",
    "values = get_connections('steve@gmail.com')"
   ]
  },
  {
   "cell_type": "code",
   "execution_count": null,
   "metadata": {},
   "outputs": [],
   "source": [
    "user_email = None\n",
    "auth_email = None\n",
    "def delete_connection(user_email, auth_email):\n",
    "    try:\n",
    "        connection_to_delete = UserConnections.objects.get(from_email=user_email, to_email=auth_email)\n",
    "        connection_to_delete.delete()\n",
    "        print(f\"Connection from {user_email} to {auth_email} deleted.\")\n",
    "    except UserConnections.DoesNotExist:\n",
    "        print(f\"Connection from {user_email} to {auth_email} not found.\")\n",
    "    except Exception as e:\n",
    "        # print(e)\n",
    "        error_message = \"INFO : /remove-connection : 2\"\n",
    "        print(error_message)\n",
    "\n",
    "    try:\n",
    "        connection_to_delete = UserConnections.objects.get(from_email=auth_email, to_email=user_email)\n",
    "        connection_to_delete.delete()\n",
    "        print(f\"Connection from {auth_email} to {user_email} deleted.\")\n",
    "    except UserConnections.DoesNotExist:\n",
    "        print(f\"Connection from {auth_email} to {user_email} not found.\")\n",
    "    except Exception as e:\n",
    "        # print(e)\n",
    "        error_message = \"INFO : /remove-connection : 2\"\n",
    "        print(error_message)\n"
   ]
  },
  {
   "cell_type": "code",
   "execution_count": 36,
   "metadata": {},
   "outputs": [
    {
     "data": {
      "text/plain": [
       "[UserConnections(from_email='steve@gmail.com', to_email='ash@gmail.com', from_name='steve', to_name='ash')]"
      ]
     },
     "execution_count": 36,
     "metadata": {},
     "output_type": "execute_result"
    }
   ],
   "source": [
    "user_email = 'ash@gmail.com'\n",
    "values = UserConnections.objects(from_email = user_email)\n",
    "values = UserConnections.objects(to_email = user_email).allow_filtering()\n",
    "list(values)"
   ]
  },
  {
   "cell_type": "code",
   "execution_count": 6,
   "metadata": {},
   "outputs": [],
   "source": [
    "class InterestedPosts(Model):\n",
    "    email = columns.Text(primary_key=True, partition_key=True)\n",
    "    post_id = columns.UUID(primary_key=True)\n",
    "    xtimestamp = columns.DateTime(primary_key=True, clustering_order=\"DESC\", default=datetime.now)\n",
    "\n",
    "sync_table(InterestedPosts)"
   ]
  },
  {
   "cell_type": "code",
   "execution_count": 5,
   "metadata": {},
   "outputs": [
    {
     "data": {
      "text/plain": [
       "[InterestedPosts(email='james@gmail.com', post_id=UUID('4468536c-d8ed-4bbf-92c9-292230b36fad'), xtimestamp=datetime.datetime(2024, 4, 28, 7, 17, 26, 629000)),\n",
       " InterestedPosts(email='alex@gmail.com', post_id=UUID('4468536c-d8ed-4bbf-92c9-292230b36fad'), xtimestamp=datetime.datetime(2024, 4, 28, 13, 42, 59, 588000)),\n",
       " InterestedPosts(email='alex@gmail.com', post_id=UUID('77bbbee1-f5bd-43b4-beea-ab95c42f3f7c'), xtimestamp=datetime.datetime(2024, 4, 28, 13, 43, 1, 658000))]"
      ]
     },
     "execution_count": 5,
     "metadata": {},
     "output_type": "execute_result"
    }
   ],
   "source": [
    "values = InterestedPosts.objects().all()\n",
    "list(values)"
   ]
  },
  {
   "cell_type": "code",
   "execution_count": 14,
   "metadata": {},
   "outputs": [],
   "source": [
    "post_ids = ['78e07cf5-49b8-4bca-b84b-8d44aa88d202','441cfab1-6bf5-4857-ac83-7d0aad345de8','77bbbee1-f5bd-43b4-beea-ab95c42f3f7c']\n",
    "\n",
    "def get_posts_by_ids(post_ids):\n",
    "    posts = Posts.objects(id__in=post_ids).allow_filtering()\n",
    "    return posts\n"
   ]
  },
  {
   "cell_type": "code",
   "execution_count": 15,
   "metadata": {},
   "outputs": [
    {
     "data": {
      "text/plain": [
       "[Posts(email='jake@gmail.com', xtimestamp=datetime.datetime(2024, 4, 27, 14, 39, 8, 390000), id=UUID('78e07cf5-49b8-4bca-b84b-8d44aa88d202'), title='title2', description='desc2', interested=0),\n",
       " Posts(email='jake@gmail.com', xtimestamp=datetime.datetime(2024, 4, 27, 14, 19, 6, 827000), id=UUID('441cfab1-6bf5-4857-ac83-7d0aad345de8'), title='title3edit', description='desc3', interested=0),\n",
       " Posts(email='steve@gmail.com', xtimestamp=datetime.datetime(2024, 4, 26, 19, 34, 37, 157000), id=UUID('77bbbee1-f5bd-43b4-beea-ab95c42f3f7c'), title='title one', description='description one', interested=0)]"
      ]
     },
     "execution_count": 15,
     "metadata": {},
     "output_type": "execute_result"
    }
   ],
   "source": [
    "values = get_posts_by_ids(post_ids)\n",
    "list(values)"
   ]
  },
  {
   "cell_type": "code",
   "execution_count": 31,
   "metadata": {},
   "outputs": [],
   "source": [
    "post = Posts.objects.allow_filtering().get(id='4468536c-d8ed-4bbf-92c9-292230b36fad')"
   ]
  },
  {
   "cell_type": "code",
   "execution_count": 49,
   "metadata": {},
   "outputs": [
    {
     "name": "stdout",
     "output_type": "stream",
     "text": [
      "title2 desc2 0\n",
      "title one description one 0\n"
     ]
    }
   ],
   "source": [
    "values = Posts.objects(email = 'steve@gmail.com').all()\n",
    "\n",
    "for value in list(values):\n",
    "    print(value.title, value.description, value.interested)"
   ]
  }
 ],
 "metadata": {
  "kernelspec": {
   "display_name": "menvi",
   "language": "python",
   "name": "python3"
  },
  "language_info": {
   "codemirror_mode": {
    "name": "ipython",
    "version": 3
   },
   "file_extension": ".py",
   "mimetype": "text/x-python",
   "name": "python",
   "nbconvert_exporter": "python",
   "pygments_lexer": "ipython3",
   "version": "3.11.9"
  }
 },
 "nbformat": 4,
 "nbformat_minor": 2
}
