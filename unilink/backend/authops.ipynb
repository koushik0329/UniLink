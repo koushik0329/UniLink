{
 "cells": [
  {
   "cell_type": "code",
   "execution_count": 1,
   "metadata": {},
   "outputs": [
    {
     "name": "stdout",
     "output_type": "stream",
     "text": [
      "hello world\n"
     ]
    }
   ],
   "source": [
    "print(\"hello world\")"
   ]
  },
  {
   "cell_type": "code",
   "execution_count": 1,
   "metadata": {},
   "outputs": [
    {
     "name": "stdout",
     "output_type": "stream",
     "text": [
      "INFO : CONNECTING TO CASSANDRA\n",
      "INFO : SUCCESS CONNECTION TO CASSANDRA\n",
      "INFO : REDIS CONNECTION NOT SETUP\n"
     ]
    }
   ],
   "source": [
    "from cassandra.cqlengine.models import Model\n",
    "from cassandra.cqlengine import columns\n",
    "from cassandra.cqlengine import connection\n",
    "from cassandra.cqlengine.management import sync_table\n",
    "from cassandra.cqlengine.query import BatchQuery\n",
    "\n",
    "from app.lib.connections import *\n",
    "from app.lib.models import *\n",
    "from app.lib.helpers import *"
   ]
  },
  {
   "cell_type": "code",
   "execution_count": 3,
   "metadata": {},
   "outputs": [
    {
     "data": {
      "text/plain": [
       "['xkeyspace',\n",
       " 'unispace',\n",
       " 'system_auth',\n",
       " 'system_schema',\n",
       " 'system',\n",
       " 'datastax_sla',\n",
       " 'pinspace',\n",
       " 'system_traces',\n",
       " 'data_endpoint_auth']"
      ]
     },
     "execution_count": 3,
     "metadata": {},
     "output_type": "execute_result"
    }
   ],
   "source": [
    "query = \"SELECT keyspace_name FROM system_schema.keyspaces;\"\n",
    "ckeyspaces = connection.execute(query)\n",
    "ckeyspaces = [keyspace[\"keyspace_name\"] for keyspace in ckeyspaces]\n",
    "ckeyspaces"
   ]
  },
  {
   "cell_type": "code",
   "execution_count": 2,
   "metadata": {},
   "outputs": [
    {
     "ename": "AttributeError",
     "evalue": "module 'cassandra.cqlengine.connection' has no attribute 'exceute'",
     "output_type": "error",
     "traceback": [
      "\u001b[1;31m---------------------------------------------------------------------------\u001b[0m",
      "\u001b[1;31mAttributeError\u001b[0m                            Traceback (most recent call last)",
      "Cell \u001b[1;32mIn[2], line 2\u001b[0m\n\u001b[0;32m      1\u001b[0m connection\u001b[38;5;241m.\u001b[39mexecute(\u001b[38;5;124m\"\u001b[39m\u001b[38;5;124mdrop table user_info\u001b[39m\u001b[38;5;124m\"\u001b[39m)\n\u001b[1;32m----> 2\u001b[0m \u001b[43mconnection\u001b[49m\u001b[38;5;241;43m.\u001b[39;49m\u001b[43mexceute\u001b[49m(\u001b[38;5;124m\"\u001b[39m\u001b[38;5;124mdrop table user_credentials\u001b[39m\u001b[38;5;124m\"\u001b[39m)\n\u001b[0;32m      4\u001b[0m \u001b[38;5;28;01mclass\u001b[39;00m \u001b[38;5;21;01mUserCredentials\u001b[39;00m(Model):\n\u001b[0;32m      5\u001b[0m     email \u001b[38;5;241m=\u001b[39m columns\u001b[38;5;241m.\u001b[39mText(primary_key\u001b[38;5;241m=\u001b[39m\u001b[38;5;28;01mTrue\u001b[39;00m)\n",
      "\u001b[1;31mAttributeError\u001b[0m: module 'cassandra.cqlengine.connection' has no attribute 'exceute'"
     ]
    }
   ],
   "source": [
    "connection.execute(\"drop table user_info\")\n",
    "connection.exceute(\"drop table user_credentials\")\n",
    "\n",
    "class UserCredentials(Model):\n",
    "    email = columns.Text(primary_key=True)\n",
    "    hashed_password = columns.Text()\n",
    "\n",
    "class UserInfo(Model):\n",
    "    email = columns.Text(primary_key=True)\n",
    "    name = columns.Text(index=True)\n",
    "\n",
    "sync_table(UserCredentials)\n",
    "sync_table(UserInfo)"
   ]
  },
  {
   "cell_type": "code",
   "execution_count": null,
   "metadata": {},
   "outputs": [],
   "source": []
  }
 ],
 "metadata": {
  "kernelspec": {
   "display_name": "menvi",
   "language": "python",
   "name": "python3"
  },
  "language_info": {
   "codemirror_mode": {
    "name": "ipython",
    "version": 3
   },
   "file_extension": ".py",
   "mimetype": "text/x-python",
   "name": "python",
   "nbconvert_exporter": "python",
   "pygments_lexer": "ipython3",
   "version": "3.11.4"
  }
 },
 "nbformat": 4,
 "nbformat_minor": 2
}
